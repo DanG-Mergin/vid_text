{
 "cells": [
  {
   "cell_type": "code",
   "execution_count": null,
   "metadata": {},
   "outputs": [],
   "source": []
  }
 ],
 "metadata": {
  "kernelspec": {
   "display_name": "Python 3.10.0",
   "language": "python",
   "name": "python3"
  },
  "language_info": {
   "name": "python",
   "version": "3.10.0"
  },
  "orig_nbformat": 4,
  "vscode": {
   "interpreter": {
    "hash": "331e91e9345f935a4b0f11100d0531baf97c3374659055a20e40914ecf0c2cf2"
   }
  }
 },
 "nbformat": 4,
 "nbformat_minor": 2
}
